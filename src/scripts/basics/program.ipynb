{
 "cells": [
  {
   "cell_type": "markdown",
   "metadata": {},
   "source": [
    "# Introductory course to web-scrapping\n",
    "\n",
    "## Table of Content:\n",
    "1. Lists\n",
    "2. Strings"
   ]
  },
  {
   "cell_type": "markdown",
   "metadata": {},
   "source": [
    "# List  <a name=\"1\"></a>"
   ]
  },
  {
   "cell_type": "markdown",
   "metadata": {},
   "source": [
    "methods:\n",
    "[El libro de Python](https://ellibrodepython.com/cadenas-python)\n",
    "- append(): add elements\n",
    "- extend(): add lists\n",
    "- insert(): add elements to a given position\n",
    "- remove(): remove an element\n",
    "- pop(): remove an element for a given position\n",
    "- reverse(): change order\n",
    "- sort(): sort lits"
   ]
  },
  {
   "cell_type": "markdown",
   "metadata": {},
   "source": [
    "Algunas propiedades de las listas:\n",
    "\n",
    "    Son ordenadas, mantienen el orden en el que han sido definidas\n",
    "    Pueden ser formadas por tipos arbitrarios\n",
    "    Pueden ser indexadas con [i].\n",
    "    Se pueden anidar, es decir, meter una dentro de la otra.\n",
    "    Son mutables, ya que sus elementos pueden ser modificados.\n",
    "    Son dinámicas, ya que se pueden añadir o eliminar elementos."
   ]
  },
  {
   "cell_type": "code",
   "execution_count": 12,
   "metadata": {},
   "outputs": [
    {
     "name": "stdout",
     "output_type": "stream",
     "text": [
      "[5, 8]\n"
     ]
    }
   ],
   "source": [
    "#Example: \n",
    "\n",
    "list = [9, 5, 8]\n",
    "\n",
    "list.pop(0) # by default it removes the last element\n",
    "\n",
    "print(list)"
   ]
  },
  {
   "cell_type": "code",
   "execution_count": 13,
   "metadata": {},
   "outputs": [
    {
     "name": "stdout",
     "output_type": "stream",
     "text": [
      "5 Jazz\n",
      "9 Rock\n",
      "10 Djent\n"
     ]
    }
   ],
   "source": [
    "# Example iterate over two lists at the same time\n",
    "lista1 = [5, 9, 10]\n",
    "lista2 = [\"Jazz\", \"Rock\", \"Djent\"]\n",
    "for l1, l2 in zip(lista1, lista2):\n",
    "    print(l1, l2)"
   ]
  },
  {
   "cell_type": "markdown",
   "metadata": {},
   "source": [
    "# Strings"
   ]
  },
  {
   "cell_type": "markdown",
   "metadata": {},
   "source": [
    "methods:\n",
    "- capitalize()\n",
    "- lower()\n",
    "- swapcase()\n",
    "- upper()\n",
    "- count(<sub>[, <start>[, <end>]])\n",
    "- isalnum()\n",
    "- isalpha()\n",
    "- strip([<chars>])\n",
    "- zfill(<width>)\n",
    "- join(<iterable>)\n",
    "- split(sep=None, maxsplit=-1)\n"
   ]
  },
  {
   "cell_type": "code",
   "execution_count": 1,
   "metadata": {},
   "outputs": [
    {
     "name": "stdout",
     "output_type": "stream",
     "text": [
      "['orange', 'strawberry', 'apple', 'banana']\n",
      "orange;strawberry;apple;banana\n"
     ]
    }
   ],
   "source": [
    "# Example:\n",
    "fruits = \"orange, strawberry, apple, banana\"\n",
    "\n",
    "list = fruits.split(\", \")\n",
    "\n",
    "print(list)\n",
    "\n",
    "list2 = \";\".join(list)\n",
    "\n",
    "print(list2)\n"
   ]
  },
  {
   "cell_type": "markdown",
   "metadata": {},
   "source": [
    "# Sets"
   ]
  },
  {
   "cell_type": "markdown",
   "metadata": {},
   "source": [
    "methods:\n",
    "- add\n",
    "- remove\n",
    "- discard\n",
    "- pop\n",
    "- clear\n",
    "\n",
    "\n",
    "sets are:\n",
    "- inmutable\n",
    "- unorganized\n",
    "- with unique elements "
   ]
  },
  {
   "cell_type": "code",
   "execution_count": 15,
   "metadata": {},
   "outputs": [
    {
     "name": "stdout",
     "output_type": "stream",
     "text": [
      "{8, 5, 6, 7}\n"
     ]
    }
   ],
   "source": [
    "s = set([5, 6, 7, 8])\n",
    "print(s)"
   ]
  },
  {
   "cell_type": "code",
   "execution_count": 17,
   "metadata": {},
   "outputs": [
    {
     "name": "stdout",
     "output_type": "stream",
     "text": [
      "{1, 2, 3, 4, 5}\n",
      "False\n"
     ]
    }
   ],
   "source": [
    "s1 = {1, 2, 3}\n",
    "s2 = {3, 4, 5}\n",
    "print(s1.union(s2))\n",
    "print(s1.isdisjoint(s2))"
   ]
  },
  {
   "cell_type": "markdown",
   "metadata": {},
   "source": [
    "# Tuple\n"
   ]
  },
  {
   "cell_type": "code",
   "execution_count": 18,
   "metadata": {},
   "outputs": [
    {
     "name": "stdout",
     "output_type": "stream",
     "text": [
      "(1, 2, ('a', 'b'), 3)\n",
      "a\n"
     ]
    }
   ],
   "source": [
    "tupla = 1, 2, ('a', 'b'), 3\n",
    "print(tupla)       #(1, 2, ('a', 'b'), 3)\n",
    "print(tupla[2][0])"
   ]
  },
  {
   "cell_type": "markdown",
   "metadata": {},
   "source": [
    "# Dictionary"
   ]
  },
  {
   "cell_type": "markdown",
   "metadata": {},
   "source": [
    "Algunas propiedades de los diccionario en Python son las siguientes:\n",
    "\n",
    "    Son dinámicos, pueden crecer o decrecer, se pueden añadir o eliminar elementos.\n",
    "    Son indexados, los elementos del diccionario son accesibles a través del key.\n",
    "    Y son anidados, un diccionario puede contener a otro diccionario en su campo value."
   ]
  },
  {
   "cell_type": "code",
   "execution_count": 20,
   "metadata": {},
   "outputs": [
    {
     "name": "stdout",
     "output_type": "stream",
     "text": [
      "Nombre Sara\n",
      "Edad 27\n",
      "Documento 1003882\n",
      "Sara\n"
     ]
    }
   ],
   "source": [
    "d2 = dict([\n",
    "      ('Nombre', 'Sara'),\n",
    "      ('Edad', 27),\n",
    "      ('Documento', 1003882),\n",
    "])\n",
    "\n",
    "for x, y in d2.items():\n",
    "    print(x, y)\n",
    "    \n",
    "\n",
    "print(d2.get('Nombre'))"
   ]
  }
 ],
 "metadata": {
  "kernelspec": {
   "display_name": "Python 3",
   "language": "python",
   "name": "python3"
  },
  "language_info": {
   "codemirror_mode": {
    "name": "ipython",
    "version": 3
   },
   "file_extension": ".py",
   "mimetype": "text/x-python",
   "name": "python",
   "nbconvert_exporter": "python",
   "pygments_lexer": "ipython3",
   "version": "3.11.2"
  }
 },
 "nbformat": 4,
 "nbformat_minor": 2
}
